{
 "cells": [
  {
   "cell_type": "markdown",
   "id": "f7550d4e-e7e5-46c9-aa76-fff964ce8659",
   "metadata": {},
   "source": [
    "\"My first markdown cell in Jupyter\""
   ]
  },
  {
   "cell_type": "code",
   "execution_count": 1,
   "id": "9d51c12d-32c0-4e95-89bd-766429b4033d",
   "metadata": {},
   "outputs": [
    {
     "name": "stdout",
     "output_type": "stream",
     "text": [
      "Hello World\n"
     ]
    }
   ],
   "source": [
    "print(\"Hello World\")"
   ]
  },
  {
   "cell_type": "code",
   "execution_count": null,
   "id": "0aad2f3a-da9c-4cc4-9f63-567f5f9214eb",
   "metadata": {},
   "outputs": [],
   "source": []
  }
 ],
 "metadata": {
  "kernelspec": {
   "display_name": "Python 3 (ipykernel)",
   "language": "python",
   "name": "python3"
  },
  "language_info": {
   "codemirror_mode": {
    "name": "ipython",
    "version": 3
   },
   "file_extension": ".py",
   "mimetype": "text/x-python",
   "name": "python",
   "nbconvert_exporter": "python",
   "pygments_lexer": "ipython3",
   "version": "3.12.6"
  }
 },
 "nbformat": 4,
 "nbformat_minor": 5
}
